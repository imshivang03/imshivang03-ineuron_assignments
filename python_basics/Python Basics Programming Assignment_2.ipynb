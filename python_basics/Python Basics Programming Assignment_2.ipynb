{
 "cells": [
  {
   "cell_type": "raw",
   "id": "715c33c3",
   "metadata": {},
   "source": [
    "Q1: Write a Python program to convert kilometers to miles?"
   ]
  },
  {
   "cell_type": "code",
   "execution_count": 4,
   "id": "c95978ff",
   "metadata": {},
   "outputs": [
    {
     "name": "stdout",
     "output_type": "stream",
     "text": [
      "enter kilometres: 20\n",
      "12.42742\n"
     ]
    }
   ],
   "source": [
    "km= float(input(\"enter kilometres: \"))\n",
    "miles= km*0.621371\n",
    "print (miles)"
   ]
  },
  {
   "cell_type": "raw",
   "id": "54c45455",
   "metadata": {},
   "source": [
    "Q2: Write a Python program to convert Celsius to Fahrenheit?"
   ]
  },
  {
   "cell_type": "code",
   "execution_count": 6,
   "id": "34046379",
   "metadata": {},
   "outputs": [
    {
     "name": "stdout",
     "output_type": "stream",
     "text": [
      "enter celsius: 36\n",
      "36.0 degree celsius = 96.8 degree fahrenheit\n"
     ]
    }
   ],
   "source": [
    "c= float(input(\"enter celsius: \"))\n",
    "f= (c*1.8)+32\n",
    "print(c ,\"degree celsius =\", f, \"degree fahrenheit\")"
   ]
  },
  {
   "cell_type": "raw",
   "id": "9f39cde9",
   "metadata": {},
   "source": [
    "Q3: Write a Python program to display calendar?"
   ]
  },
  {
   "cell_type": "code",
   "execution_count": 14,
   "id": "42b7c3d4",
   "metadata": {},
   "outputs": [
    {
     "name": "stdout",
     "output_type": "stream",
     "text": [
      "enter year: 2022\n",
      "                                  2022\n",
      "\n",
      "      January                   February                   March\n",
      "Mo Tu We Th Fr Sa Su      Mo Tu We Th Fr Sa Su      Mo Tu We Th Fr Sa Su\n",
      "                1  2          1  2  3  4  5  6          1  2  3  4  5  6\n",
      " 3  4  5  6  7  8  9       7  8  9 10 11 12 13       7  8  9 10 11 12 13\n",
      "10 11 12 13 14 15 16      14 15 16 17 18 19 20      14 15 16 17 18 19 20\n",
      "17 18 19 20 21 22 23      21 22 23 24 25 26 27      21 22 23 24 25 26 27\n",
      "24 25 26 27 28 29 30      28                        28 29 30 31\n",
      "31\n",
      "\n",
      "       April                      May                       June\n",
      "Mo Tu We Th Fr Sa Su      Mo Tu We Th Fr Sa Su      Mo Tu We Th Fr Sa Su\n",
      "             1  2  3                         1             1  2  3  4  5\n",
      " 4  5  6  7  8  9 10       2  3  4  5  6  7  8       6  7  8  9 10 11 12\n",
      "11 12 13 14 15 16 17       9 10 11 12 13 14 15      13 14 15 16 17 18 19\n",
      "18 19 20 21 22 23 24      16 17 18 19 20 21 22      20 21 22 23 24 25 26\n",
      "25 26 27 28 29 30         23 24 25 26 27 28 29      27 28 29 30\n",
      "                          30 31\n",
      "\n",
      "        July                     August                  September\n",
      "Mo Tu We Th Fr Sa Su      Mo Tu We Th Fr Sa Su      Mo Tu We Th Fr Sa Su\n",
      "             1  2  3       1  2  3  4  5  6  7                1  2  3  4\n",
      " 4  5  6  7  8  9 10       8  9 10 11 12 13 14       5  6  7  8  9 10 11\n",
      "11 12 13 14 15 16 17      15 16 17 18 19 20 21      12 13 14 15 16 17 18\n",
      "18 19 20 21 22 23 24      22 23 24 25 26 27 28      19 20 21 22 23 24 25\n",
      "25 26 27 28 29 30 31      29 30 31                  26 27 28 29 30\n",
      "\n",
      "      October                   November                  December\n",
      "Mo Tu We Th Fr Sa Su      Mo Tu We Th Fr Sa Su      Mo Tu We Th Fr Sa Su\n",
      "                1  2          1  2  3  4  5  6                1  2  3  4\n",
      " 3  4  5  6  7  8  9       7  8  9 10 11 12 13       5  6  7  8  9 10 11\n",
      "10 11 12 13 14 15 16      14 15 16 17 18 19 20      12 13 14 15 16 17 18\n",
      "17 18 19 20 21 22 23      21 22 23 24 25 26 27      19 20 21 22 23 24 25\n",
      "24 25 26 27 28 29 30      28 29 30                  26 27 28 29 30 31\n",
      "31\n",
      "\n",
      "enter month: 05\n",
      "      May 2022\n",
      "Mo Tu We Th Fr Sa Su\n",
      "                   1\n",
      " 2  3  4  5  6  7  8\n",
      " 9 10 11 12 13 14 15\n",
      "16 17 18 19 20 21 22\n",
      "23 24 25 26 27 28 29\n",
      "30 31\n",
      "\n"
     ]
    }
   ],
   "source": [
    "import calendar\n",
    "\n",
    "year= int(input(\"enter year: \"))\n",
    " \n",
    "# calender.calendar displays the whole year calendar, when given year as an argument\n",
    "print(calendar.calendar(year))\n",
    "\n",
    "month= int(input(\"enter month: \"))\n",
    "#for displaying particular month of a year we need to call calender.month(month,year) with the argument as month and year\n",
    "print(calendar.month(year, month))"
   ]
  },
  {
   "cell_type": "raw",
   "id": "2100d0d8",
   "metadata": {},
   "source": [
    "Q4: Write a Python program to solve quadratic equation?"
   ]
  },
  {
   "cell_type": "code",
   "execution_count": 23,
   "id": "f2244e27",
   "metadata": {},
   "outputs": [
    {
     "name": "stdout",
     "output_type": "stream",
     "text": [
      "enter a: 1\n",
      "enter b: 5\n",
      "enter c: 6\n",
      "Solution of quadratic eqn are (-3+0j) and (-2+0j)\n"
     ]
    }
   ],
   "source": [
    "#importing complex math module\n",
    "import cmath\n",
    "\n",
    "a= int(input(\"enter a: \"))\n",
    "b= int(input(\"enter b: \"))\n",
    "c= int(input(\"enter c: \"))\n",
    "\n",
    "if a!=0:\n",
    "    # calculating discriminant\n",
    "    d= (b**2)-(4*a*c)\n",
    "    \n",
    "    # finding solns\n",
    "    sol1= (-b-cmath.sqrt(d))/(2*a)\n",
    "    sol2= (-b+cmath.sqrt(d))/(2*a)\n",
    "    \n",
    "    print(\"Solution of quadratic eqn are {0} and {1}\". format(sol1,sol2))\n",
    "else:\n",
    "    print(\"Enter the appropriate value of 'a'\")"
   ]
  },
  {
   "cell_type": "raw",
   "id": "a7c5548e",
   "metadata": {},
   "source": [
    "Q5: Write a Python program to swap two variables without temp variable? "
   ]
  },
  {
   "cell_type": "code",
   "execution_count": 25,
   "id": "e4fc78fc",
   "metadata": {},
   "outputs": [
    {
     "name": "stdout",
     "output_type": "stream",
     "text": [
      "enter 1st number: 5\n",
      "enter 2nd number: 6\n",
      "before swapping\n",
      "a= 5 b= 6\n",
      "after swapping\n",
      "a= 6 b= 5\n"
     ]
    }
   ],
   "source": [
    "a = int(input(\"enter 1st number: \"))\n",
    "b = int(input(\"enter 2nd number: \"))\n",
    "\n",
    "print(\"before swapping\")\n",
    "print(\"a=\", a, \"b=\", b)\n",
    "a,b = b,a\n",
    "\n",
    "print(\"after swapping\")\n",
    "print(\"a=\", a, \"b=\", b)"
   ]
  },
  {
   "cell_type": "code",
   "execution_count": 27,
   "id": "67ae62e0",
   "metadata": {},
   "outputs": [
    {
     "name": "stdout",
     "output_type": "stream",
     "text": [
      "enter 1st number: 20\n",
      "enter 2nd number: 30\n",
      "before swapping\n",
      "a= 20 b= 30\n",
      "after swapping\n",
      "a= 30 b= 20\n"
     ]
    }
   ],
   "source": [
    "# another solution\n",
    "\n",
    "c = int(input(\"enter 1st number: \"))\n",
    "d = int(input(\"enter 2nd number: \"))\n",
    "\n",
    "print(\"before swapping\")\n",
    "print(\"a=\", c, \"b=\", d)\n",
    "\n",
    "c= c+d\n",
    "d= c-d\n",
    "c= c-d\n",
    "\n",
    "print(\"after swapping\")\n",
    "print(\"a=\", c, \"b=\", d)"
   ]
  }
 ],
 "metadata": {
  "kernelspec": {
   "display_name": "Python 3 (ipykernel)",
   "language": "python",
   "name": "python3"
  },
  "language_info": {
   "codemirror_mode": {
    "name": "ipython",
    "version": 3
   },
   "file_extension": ".py",
   "mimetype": "text/x-python",
   "name": "python",
   "nbconvert_exporter": "python",
   "pygments_lexer": "ipython3",
   "version": "3.9.7"
  }
 },
 "nbformat": 4,
 "nbformat_minor": 5
}
