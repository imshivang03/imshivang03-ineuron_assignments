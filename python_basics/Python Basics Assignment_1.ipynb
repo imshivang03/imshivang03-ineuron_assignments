{
 "cells": [
  {
   "cell_type": "markdown",
   "id": "d015bece",
   "metadata": {},
   "source": [
    "# Python Basics Assignment -1"
   ]
  },
  {
   "cell_type": "raw",
   "id": "c7cdeed0",
   "metadata": {},
   "source": [
    "Q1. In the below elements which of them are values or an expression? eg:- values can be integer or string and expressions \n",
    "    will be mathematical operators.\n",
    "    \n",
    "Ans:    * : expression\n",
    "        hello : value\n",
    "        -87.8 : value\n",
    "        - : expression\n",
    "        / : expression\n",
    "        + : expression\n",
    "        6 : value"
   ]
  },
  {
   "cell_type": "raw",
   "id": "7c5c992b",
   "metadata": {},
   "source": [
    "Q2. What is the difference between string and variable?\n",
    "\n",
    "Ans: A string is a group of character enclosed with \" \" or ' ' or we can also say that a string is a type of information        which we store in a variable whereas A Variable stores information, it works like a container.\n",
    "     Eg: \"apple\", 'shivang' (here apple and shivang both are string)\n",
    "          var = 10 (var is an integer variable which behaves like a container and it will store 10 inside it)"
   ]
  },
  {
   "cell_type": "raw",
   "id": "663cec42",
   "metadata": {},
   "source": [
    "Q3: Describe three different data types.\n",
    "\n",
    "Ans: The three data dypes are integer, float and boolean\n",
    "     Integer: Integer is a data type which is used to store numerical values. \n",
    "     Eg: v = 42 here the value 42 is of integer data type\n",
    "     Float: Float is a data type which is used to store floating point numbers / decimal values.\n",
    "     Eg: w = 22.46 here the value 22.46 is of float data type\n",
    "     Boolean: Boolean data type is used to evaluate any expression whether it is true or false.\n",
    "     Eg: (10 > 9): o/p will be true because 10 is greater than 9 \n",
    "         (10 < 9): o/p will be false"
   ]
  },
  {
   "cell_type": "raw",
   "id": "c1d154a0",
   "metadata": {},
   "source": [
    "Q4: What is an expression made up of? What do all expressions do?\n",
    "\n",
    "Ans: Expression consists of mathematical operators, values and containers. \n",
    "     Eg: c = 10 / 2 , expression is used to evaluate the values or to make the respective calculation. "
   ]
  },
  {
   "cell_type": "raw",
   "id": "6250e157",
   "metadata": {},
   "source": [
    "Q5: This assignment statements, like spam = 10. What is the difference between an expression and a statement?\n",
    "\n",
    "Ans: In Python whatever we can print, or assign to a variable, is an expression and whatever we can't is a statement.\n",
    "     Eg: a = 3 + 2 + 1 * (6 ** 7) - sqrt(6.0) \n",
    "         b = min(2, 22) \n",
    "         above both examples are expression\n",
    "         while CONDITION: \n",
    "         try: \n",
    "         except EXCEPTION as e: \n",
    "         class car:\n",
    "         all the above 4 examples are statement"
   ]
  },
  {
   "cell_type": "raw",
   "id": "609f30a7",
   "metadata": {},
   "source": [
    "Q6: After running the following code, what does the variable bacon contain?\n",
    "    bacon = 22\n",
    "    bacon + 1\n",
    "    \n",
    "Ans: The value of bacon will be 23 because it is incremented by 1 in the next line just after it is assigned to 22."
   ]
  },
  {
   "cell_type": "raw",
   "id": "0451db36",
   "metadata": {},
   "source": [
    "Q7: What should the values of the following two terms be?\n",
    "    'spam' + 'spamspam'\n",
    "    'spam' * 3\n",
    "    \n",
    "Ans: Both the expression above will give the same output 'spamspamspam', 1st expression is concatinating the string\n",
    "     'spam' and 'spamspam' and the 2nd expression is multiplying the string 'spam' by 3, where both gives the same output."
   ]
  },
  {
   "cell_type": "raw",
   "id": "5dae7617",
   "metadata": {},
   "source": [
    "Q8: Why is eggs a valid variable name while 100 is invalid?\n",
    "\n",
    "Ans: An integer can't be a variable, a variable should always begin with a character (alphabet). \n",
    "     eggs, egg100, eggs_1 these all are valid variables."
   ]
  },
  {
   "cell_type": "raw",
   "id": "c49110ae",
   "metadata": {},
   "source": [
    "Q9: What three functions can be used to get the integer, floating-point number, or string version of a value?\n",
    "\n",
    "Ans: int(), float(), str()"
   ]
  },
  {
   "cell_type": "raw",
   "id": "ab10c4c6",
   "metadata": {},
   "source": [
    "Q10: Why does this expression cause an error? How can you fix it? 'I have eaten' + 99 + 'burritos' \n",
    "\n",
    "Ans: Here 99 is integer variable and 'I have eaten' and 'burritos' are string so integer can't be concatinated with string      variable so we need to typecast 99 (which is integer) to string, for that we will simply use str(99).\n",
    "     'I have eaten' + str(99) + 'burritos'"
   ]
  }
 ],
 "metadata": {
  "kernelspec": {
   "display_name": "Python 3 (ipykernel)",
   "language": "python",
   "name": "python3"
  },
  "language_info": {
   "codemirror_mode": {
    "name": "ipython",
    "version": 3
   },
   "file_extension": ".py",
   "mimetype": "text/x-python",
   "name": "python",
   "nbconvert_exporter": "python",
   "pygments_lexer": "ipython3",
   "version": "3.9.7"
  }
 },
 "nbformat": 4,
 "nbformat_minor": 5
}
