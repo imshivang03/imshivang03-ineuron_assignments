{
 "cells": [
  {
   "cell_type": "raw",
   "id": "0c5d7cb9",
   "metadata": {},
   "source": [
    "Q1: Write a Python Program to Display Fibonacci Sequence Using Recursion?"
   ]
  },
  {
   "cell_type": "code",
   "execution_count": 7,
   "id": "9257a5c6",
   "metadata": {},
   "outputs": [
    {
     "name": "stdout",
     "output_type": "stream",
     "text": [
      "enter the range you want: 10\n",
      "[0, 1, 1, 2, 3, 5, 8, 13, 21, 34]\n"
     ]
    }
   ],
   "source": [
    "def fib(n):\n",
    "    if n==0:\n",
    "        return 0\n",
    "    elif n==1:\n",
    "        return 1\n",
    "    else:\n",
    "        #print(n)\n",
    "        return fib(n-1) + fib(n-2)   \n",
    "\n",
    "l=[]    \n",
    "n= int(input(\"enter the range you want: \"))\n",
    "for i in range(n):\n",
    "    l.append(fib(i))\n",
    "    \n",
    "print(l)"
   ]
  },
  {
   "cell_type": "code",
   "execution_count": null,
   "id": "78e7fc1b",
   "metadata": {},
   "outputs": [],
   "source": [
    "1 1 2 3 5 8 13"
   ]
  },
  {
   "cell_type": "raw",
   "id": "889bc89f",
   "metadata": {},
   "source": [
    "Q2: Write a Python Program to Find Factorial of Number Using Recursion?"
   ]
  },
  {
   "cell_type": "code",
   "execution_count": 3,
   "id": "0a613551",
   "metadata": {},
   "outputs": [
    {
     "name": "stdout",
     "output_type": "stream",
     "text": [
      "enter the number: 6\n",
      "720\n"
     ]
    }
   ],
   "source": [
    "def fact(n):\n",
    "    if n==0 or n==1:\n",
    "        return 1\n",
    "    else:\n",
    "        return n* rec(n-1)\n",
    "    \n",
    "a= int(input(\"enter the number: \"))    \n",
    "f=fact(a)\n",
    "print(f)"
   ]
  },
  {
   "cell_type": "raw",
   "id": "94a53e0c",
   "metadata": {},
   "source": [
    "Q3: Write a Python Program to calculate your Body Mass Index?"
   ]
  },
  {
   "cell_type": "code",
   "execution_count": 4,
   "id": "1173cc28",
   "metadata": {},
   "outputs": [
    {
     "name": "stdout",
     "output_type": "stream",
     "text": [
      "enter height in cm: 182\n",
      "enter weight in kg: 80\n",
      "your body mass index is:  24.151672503320853\n",
      "You are healthy.\n"
     ]
    }
   ],
   "source": [
    "def bmicalculator():\n",
    "    h= float(input(\"enter height in cm: \"))\n",
    "    w= float(input(\"enter weight in kg: \"))\n",
    "    BMI= w/(h/100)**2\n",
    "    print(\"your body mass index is: \", BMI)\n",
    "    if BMI <= 18.4:\n",
    "        print(\"You are underweight.\")\n",
    "    elif BMI <= 24.9:\n",
    "        print(\"You are healthy.\")\n",
    "    elif BMI <= 29.9:\n",
    "        print(\"You are over weight.\")\n",
    "    elif BMI <= 34.9:\n",
    "        print(\"You are severely over weight.\")\n",
    "    elif BMI <= 39.9:\n",
    "        print(\"You are obese.\")\n",
    "    else:\n",
    "        print(\"You are severely obese.\")\n",
    "        \n",
    "bmicalculator()"
   ]
  },
  {
   "cell_type": "raw",
   "id": "05995f76",
   "metadata": {},
   "source": [
    "Q4: Write a Python Program to calculate the natural logarithm of any number?"
   ]
  },
  {
   "cell_type": "code",
   "execution_count": 5,
   "id": "d261cfa9",
   "metadata": {},
   "outputs": [
    {
     "name": "stdout",
     "output_type": "stream",
     "text": [
      "Natural logarithm of 14 is : 2.6390573296152584\n"
     ]
    }
   ],
   "source": [
    "import math\n",
    " \n",
    "print (\"Natural logarithm of 14 is : \", end=\"\")\n",
    "print (math.log(14))"
   ]
  },
  {
   "cell_type": "raw",
   "id": "f252aadb",
   "metadata": {},
   "source": [
    "Q5: Write a Python Program for cube sum of first n natural numbers?"
   ]
  },
  {
   "cell_type": "code",
   "execution_count": 17,
   "id": "a2a37752",
   "metadata": {},
   "outputs": [
    {
     "name": "stdout",
     "output_type": "stream",
     "text": [
      "enter the range: 5\n"
     ]
    },
    {
     "data": {
      "text/plain": [
       "225"
      ]
     },
     "execution_count": 17,
     "metadata": {},
     "output_type": "execute_result"
    }
   ],
   "source": [
    "def c_sum():\n",
    "    n= int(input(\"enter the range: \"))\n",
    "    sum=0\n",
    "    for i in range(1,n+1):\n",
    "        sum+= i**3\n",
    "        #sum= sum+n\n",
    "    return sum\n",
    "\n",
    "c_sum()"
   ]
  },
  {
   "cell_type": "code",
   "execution_count": null,
   "id": "d494d457",
   "metadata": {},
   "outputs": [],
   "source": []
  }
 ],
 "metadata": {
  "kernelspec": {
   "display_name": "Python 3 (ipykernel)",
   "language": "python",
   "name": "python3"
  },
  "language_info": {
   "codemirror_mode": {
    "name": "ipython",
    "version": 3
   },
   "file_extension": ".py",
   "mimetype": "text/x-python",
   "name": "python",
   "nbconvert_exporter": "python",
   "pygments_lexer": "ipython3",
   "version": "3.9.7"
  }
 },
 "nbformat": 4,
 "nbformat_minor": 5
}
