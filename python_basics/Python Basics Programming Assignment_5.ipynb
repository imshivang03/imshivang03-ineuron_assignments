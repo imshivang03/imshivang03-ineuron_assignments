{
 "cells": [
  {
   "cell_type": "raw",
   "id": "b97a158b",
   "metadata": {},
   "source": [
    "Q1: Write a Python Program to Find LCM?"
   ]
  },
  {
   "cell_type": "code",
   "execution_count": 28,
   "id": "9b6a7cdc",
   "metadata": {},
   "outputs": [
    {
     "name": "stdout",
     "output_type": "stream",
     "text": [
      "enter the number of elements you will enter: 5\n",
      "enter the numbers: 2\n",
      "enter the numbers: 4\n",
      "enter the numbers: 6\n",
      "enter the numbers: 8\n",
      "enter the numbers: 10\n",
      "lcm of [2, 4, 6, 8, 10] is 120\n"
     ]
    }
   ],
   "source": [
    "def lcm_cal(a,b):\n",
    "    if a>b:\n",
    "        a1=a\n",
    "        b1=b\n",
    "    elif a<b:\n",
    "        a1=b\n",
    "        b1=a\n",
    "    rem= a1%b1\n",
    "    while rem!=0:\n",
    "        a1=b1\n",
    "        b1=rem\n",
    "        rem= a1%b1\n",
    "    gcd= b1\n",
    "    #lcm= int(int(a * b)/int(gcd))\n",
    "    lcm= (a * b)//gcd\n",
    "    return lcm\n",
    "    \n",
    "l=[]\n",
    "n= int(input(\"enter the number of elements you will enter: \"))\n",
    "for i in range(n):\n",
    "    ele= int(input(\"enter the numbers: \"))\n",
    "    l.append(ele)\n",
    "\n",
    "a= l[0]\n",
    "b= l[1]\n",
    "lcm= lcm_cal(a,b)\n",
    "\n",
    "for i in range(2, len(l)):\n",
    "    lcm= lcm_cal(lcm, l[i])\n",
    "\n",
    "print(\"lcm of\",l,\"is\",lcm)"
   ]
  },
  {
   "cell_type": "raw",
   "id": "ed7bb9ea",
   "metadata": {},
   "source": [
    "Q2: Write a Python Program to Find HCF?"
   ]
  },
  {
   "cell_type": "code",
   "execution_count": 42,
   "id": "3e1598d1",
   "metadata": {},
   "outputs": [
    {
     "name": "stdout",
     "output_type": "stream",
     "text": [
      "enter the two elements to calculate hcf:\n",
      "enter the numbers: 8\n",
      "enter the numbers: 10\n",
      "2\n"
     ]
    }
   ],
   "source": [
    "def hcf_cal(a,b):\n",
    "    if a>b:\n",
    "        a1=a\n",
    "        b1=b\n",
    "    elif a<b:\n",
    "        a1=b\n",
    "        b1=a\n",
    "    rem= a1%b1\n",
    "    while rem!=0:\n",
    "        a1=b1\n",
    "        b1=rem\n",
    "        rem= a1%b1\n",
    "    hcf= b1\n",
    "    return hcf\n",
    "    \n",
    "l=[]\n",
    "print(\"enter the two elements to calculate hcf:\")\n",
    "for i in range(2):\n",
    "    ele= int(input(\"enter the numbers: \"))\n",
    "    l.append(ele)\n",
    "\n",
    "a= l[0]\n",
    "b= l[1]\n",
    "hcf= hcf_cal(a,b)\n",
    "print(hcf)"
   ]
  },
  {
   "cell_type": "raw",
   "id": "9873c3e9",
   "metadata": {},
   "source": [
    "Q3: Write a Python Program to Convert Decimal to Binary, Octal and Hexadecimal?"
   ]
  },
  {
   "cell_type": "code",
   "execution_count": 50,
   "id": "c24a7492",
   "metadata": {},
   "outputs": [
    {
     "name": "stdout",
     "output_type": "stream",
     "text": [
      "Enter the Decimal Number: 344\n",
      "The binary of 344 is: 0b101011000\n",
      "The octal of 344 is: 0o530\n",
      "The hexadecimal of 344 is: 0x158\n"
     ]
    }
   ],
   "source": [
    "def d_to_b(d):  \n",
    "    print (\"The binary of\", d, \"is:\", bin(d))  \n",
    "\n",
    "def d_to_o(d):    \n",
    "    print (\"The octal of\", d, \"is:\", oct(d))  \n",
    "\n",
    "def d_to_hd(d):    \n",
    "    print (\"The hexadecimal of\", d, \"is:\", hex(d))  \n",
    "    \n",
    "    \n",
    "d = int (input (\"Enter the Decimal Number: \"))  \n",
    "d_to_b(d)  \n",
    "d_to_o(d)  \n",
    "d_to_hd(d) "
   ]
  },
  {
   "cell_type": "raw",
   "id": "6ad209cd",
   "metadata": {},
   "source": [
    "Q4: Write a Python Program To Find ASCII value of a character?"
   ]
  },
  {
   "cell_type": "code",
   "execution_count": 58,
   "id": "744efc8b",
   "metadata": {},
   "outputs": [
    {
     "name": "stdout",
     "output_type": "stream",
     "text": [
      "Enter the Character: p\n",
      "The ASCII value of 'p' is 112\n"
     ]
    }
   ],
   "source": [
    "user_input = input('Enter the Character: ')[0]\n",
    "print(\"The ASCII value of '\" + user_input + \"' is\", ord(user_input))"
   ]
  },
  {
   "cell_type": "raw",
   "id": "47494a27",
   "metadata": {},
   "source": [
    "Q5: Write a Python Program to Make a Simple Calculator with 4 basic mathematical operations?"
   ]
  },
  {
   "cell_type": "code",
   "execution_count": 29,
   "id": "673b445b",
   "metadata": {},
   "outputs": [
    {
     "name": "stdout",
     "output_type": "stream",
     "text": [
      "enter 1st number: 98596325\n",
      "enter 2nd number: 56\n",
      "Which operation do u want to perform: \"add, subtract, multiply, divide\" :subtract\n",
      "98596269\n"
     ]
    }
   ],
   "source": [
    "def calculator(a,b):\n",
    "    inp=input('Which operation do u want to perform: \"add, subtract, multiply, divide\" :')\n",
    "        \n",
    "    def sum1(a,b):\n",
    "        return(a+b)\n",
    "       \n",
    "    def sub(a,b):\n",
    "        return(a-b)\n",
    "    \n",
    "    def div(a,b):\n",
    "        return(a/b)\n",
    "    \n",
    "    def mul(a,b):\n",
    "        return(a*b)\n",
    "    \n",
    "    if inp==\"add\":\n",
    "        n=sum1(a,b)\n",
    "        print(n)\n",
    "    elif inp==\"multiply\":\n",
    "        n=mul(a,b)\n",
    "        print(n)\n",
    "    elif inp==\"divide\":\n",
    "        n=div(a,b)\n",
    "        print(n)\n",
    "    elif inp==\"subtract\":\n",
    "        n=sub(a,b)\n",
    "        print(n)\n",
    "    \n",
    "a= int(input(\"enter 1st number: \"))\n",
    "b= int(input(\"enter 2nd number: \"))\n",
    "calculator(a,b)\n",
    "#print(n)"
   ]
  }
 ],
 "metadata": {
  "kernelspec": {
   "display_name": "Python 3 (ipykernel)",
   "language": "python",
   "name": "python3"
  },
  "language_info": {
   "codemirror_mode": {
    "name": "ipython",
    "version": 3
   },
   "file_extension": ".py",
   "mimetype": "text/x-python",
   "name": "python",
   "nbconvert_exporter": "python",
   "pygments_lexer": "ipython3",
   "version": "3.9.7"
  }
 },
 "nbformat": 4,
 "nbformat_minor": 5
}
