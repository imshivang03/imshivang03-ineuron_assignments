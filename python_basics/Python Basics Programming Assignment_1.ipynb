{
 "cells": [
  {
   "cell_type": "raw",
   "id": "cbc1e042",
   "metadata": {},
   "source": [
    "Q1: Write a Python program to print \"Hello World\""
   ]
  },
  {
   "cell_type": "code",
   "execution_count": 1,
   "id": "3a4694e6",
   "metadata": {},
   "outputs": [
    {
     "name": "stdout",
     "output_type": "stream",
     "text": [
      "Hello World\n"
     ]
    }
   ],
   "source": [
    "print(\"Hello World\")"
   ]
  },
  {
   "cell_type": "raw",
   "id": "839c3cdc",
   "metadata": {},
   "source": [
    "Q2: Write a Python program to do arithmetical operations addition and division.?"
   ]
  },
  {
   "cell_type": "code",
   "execution_count": 17,
   "id": "3152f996",
   "metadata": {},
   "outputs": [
    {
     "name": "stdout",
     "output_type": "stream",
     "text": [
      "Enter a: 2\n",
      "Enter b: 1\n",
      "sum of 2 and 1 is : 3\n",
      "division of 2 and 1 is : 2.0\n",
      "multiplication of 2 and 1 is : 2\n",
      "difference of 2 and 1 is : 1\n",
      "exponent of 2 and 1 is : 2\n",
      "modulus of 2 and 1 is : 0\n"
     ]
    }
   ],
   "source": [
    "a= int(input(\"Enter a: \"))\n",
    "b= int(input(\"Enter b: \"))\n",
    "sum1= a+b\n",
    "print (\"sum of\", a ,\"and\", b, \"is :\" , sum1)\n",
    "div= a/b\n",
    "print (\"division of\", a ,\"and\", b, \"is :\" , div)\n",
    "mul= a*b\n",
    "print(\"multiplication of\", a ,\"and\", b, \"is :\" , mul)\n",
    "sub= a-b\n",
    "print(\"difference of\", a ,\"and\", b, \"is :\" , sub)\n",
    "exp= a**b\n",
    "print(\"exponent of\", a ,\"and\", b, \"is :\" , exp)\n",
    "mod= a%b\n",
    "print(\"modulus of\", a ,\"and\", b, \"is :\" , mod)"
   ]
  },
  {
   "cell_type": "raw",
   "id": "c5c255fd",
   "metadata": {},
   "source": [
    "Q3: Write a Python program to find the area of a triangle?"
   ]
  },
  {
   "cell_type": "code",
   "execution_count": 11,
   "id": "be42a3ac",
   "metadata": {},
   "outputs": [
    {
     "name": "stdout",
     "output_type": "stream",
     "text": [
      "enter base30\n",
      "enter height20\n",
      "area of the triangle is  300.0\n"
     ]
    }
   ],
   "source": [
    "b= int(input(\"enter base\"))\n",
    "h= int(input(\"enter height\"))\n",
    "area = 1/2 * b * h\n",
    "print(\"area of the triangle is \", area)"
   ]
  },
  {
   "cell_type": "raw",
   "id": "33d9ce09",
   "metadata": {},
   "source": [
    "Q4: Write a Python program to swap two variables?"
   ]
  },
  {
   "cell_type": "code",
   "execution_count": 12,
   "id": "742d064d",
   "metadata": {},
   "outputs": [
    {
     "name": "stdout",
     "output_type": "stream",
     "text": [
      "Enter a 10\n",
      "Enter b 20\n",
      "Values after swapping a = 10 b = 20\n",
      "Values after swapping a = 20 b = 10\n"
     ]
    }
   ],
   "source": [
    "a= int(input(\"Enter a \"))\n",
    "b= int(input(\"Enter b \"))\n",
    "print(\"Values after swapping\", \"a =\", a, \"b =\", b)\n",
    "temp=a\n",
    "a=b\n",
    "b=temp\n",
    "print (\"Values after swapping\", \"a =\", a, \"b =\", b)"
   ]
  },
  {
   "cell_type": "raw",
   "id": "f228d0d8",
   "metadata": {},
   "source": [
    "Q5: Write a Python program to generate a random number?"
   ]
  },
  {
   "cell_type": "code",
   "execution_count": 16,
   "id": "053e2392",
   "metadata": {},
   "outputs": [
    {
     "name": "stdout",
     "output_type": "stream",
     "text": [
      "830\n"
     ]
    }
   ],
   "source": [
    "#for generating random numbers we need to import random\n",
    "import random\n",
    "#random.randint will generate any single number from 0 to 1000\n",
    "n = random.randint(0,1000)\n",
    "print(n)"
   ]
  }
 ],
 "metadata": {
  "kernelspec": {
   "display_name": "Python 3 (ipykernel)",
   "language": "python",
   "name": "python3"
  },
  "language_info": {
   "codemirror_mode": {
    "name": "ipython",
    "version": 3
   },
   "file_extension": ".py",
   "mimetype": "text/x-python",
   "name": "python",
   "nbconvert_exporter": "python",
   "pygments_lexer": "ipython3",
   "version": "3.9.7"
  }
 },
 "nbformat": 4,
 "nbformat_minor": 5
}
