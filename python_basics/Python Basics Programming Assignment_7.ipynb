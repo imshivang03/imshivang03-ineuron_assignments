{
 "cells": [
  {
   "cell_type": "raw",
   "id": "86488aab",
   "metadata": {},
   "source": [
    "Q1: Write a Python Program to find sum of array?"
   ]
  },
  {
   "cell_type": "code",
   "execution_count": 12,
   "id": "68fa2466",
   "metadata": {},
   "outputs": [
    {
     "name": "stdout",
     "output_type": "stream",
     "text": [
      "enter the elements you want to enter:5\n",
      "10\n",
      "20\n",
      "30\n",
      "40\n",
      "50\n"
     ]
    },
    {
     "data": {
      "text/plain": [
       "150"
      ]
     },
     "execution_count": 12,
     "metadata": {},
     "output_type": "execute_result"
    }
   ],
   "source": [
    "def soa(l,n):\n",
    "    sum=0\n",
    "    for i in range(n):\n",
    "        sum+= l[i]\n",
    "    return sum\n",
    "\n",
    "l=[]\n",
    "n= int(input(\"enter the elements you want to enter:\"))\n",
    "for i in range(n):\n",
    "    ele= int(input())\n",
    "    l.append(ele)\n",
    "\n",
    "soa(l,n)"
   ]
  },
  {
   "cell_type": "raw",
   "id": "3a862dd7",
   "metadata": {},
   "source": [
    "Q2: Write a Python Program to find largest element in an array?"
   ]
  },
  {
   "cell_type": "code",
   "execution_count": 16,
   "id": "d03ee599",
   "metadata": {},
   "outputs": [
    {
     "name": "stdout",
     "output_type": "stream",
     "text": [
      "enter the elements you want to enter:3\n",
      "46\n",
      "97\n",
      "40\n"
     ]
    },
    {
     "data": {
      "text/plain": [
       "97"
      ]
     },
     "execution_count": 16,
     "metadata": {},
     "output_type": "execute_result"
    }
   ],
   "source": [
    "def lia(l,n):\n",
    "    max= l[0]\n",
    "    for i in range(1,n):\n",
    "        if l[i]>max:\n",
    "            max= l[i]\n",
    "    return max\n",
    "l=[]\n",
    "n= int(input(\"enter the elements you want to enter:\"))\n",
    "for i in range(n):\n",
    "    ele= int(input())\n",
    "    l.append(ele)\n",
    "    \n",
    "lia(l,n)"
   ]
  },
  {
   "cell_type": "raw",
   "id": "4123a736",
   "metadata": {},
   "source": [
    "Q3: Write a Python Program for array rotation?"
   ]
  },
  {
   "cell_type": "code",
   "execution_count": 2,
   "id": "807f831a",
   "metadata": {},
   "outputs": [
    {
     "name": "stdout",
     "output_type": "stream",
     "text": [
      "enter values: 1 2 3\n",
      "enter the number from where you want to rotate the list: 5\n"
     ]
    },
    {
     "ename": "IndexError",
     "evalue": "list index out of range",
     "output_type": "error",
     "traceback": [
      "\u001b[1;31m---------------------------------------------------------------------------\u001b[0m",
      "\u001b[1;31mIndexError\u001b[0m                                Traceback (most recent call last)",
      "\u001b[1;32m~\\AppData\\Local\\Temp/ipykernel_8008/4003340014.py\u001b[0m in \u001b[0;36m<module>\u001b[1;34m\u001b[0m\n\u001b[0;32m     11\u001b[0m \u001b[0mnum\u001b[0m\u001b[1;33m=\u001b[0m \u001b[0mint\u001b[0m\u001b[1;33m(\u001b[0m\u001b[0minput\u001b[0m\u001b[1;33m(\u001b[0m\u001b[1;34m\"enter the number from where you want to rotate the list: \"\u001b[0m\u001b[1;33m)\u001b[0m\u001b[1;33m)\u001b[0m\u001b[1;33m\u001b[0m\u001b[1;33m\u001b[0m\u001b[0m\n\u001b[0;32m     12\u001b[0m \u001b[1;32mif\u001b[0m \u001b[0mnum\u001b[0m\u001b[1;33m>\u001b[0m\u001b[0mlen\u001b[0m\u001b[1;33m(\u001b[0m\u001b[0mx\u001b[0m\u001b[1;33m)\u001b[0m\u001b[1;33m:\u001b[0m\u001b[1;33m\u001b[0m\u001b[1;33m\u001b[0m\u001b[0m\n\u001b[1;32m---> 13\u001b[1;33m     \u001b[1;32mraise\u001b[0m \u001b[0mIndexError\u001b[0m \u001b[1;33m(\u001b[0m\u001b[1;34m\"list index out of range\"\u001b[0m\u001b[1;33m)\u001b[0m\u001b[1;33m\u001b[0m\u001b[1;33m\u001b[0m\u001b[0m\n\u001b[0m\u001b[0;32m     14\u001b[0m \u001b[1;32melse\u001b[0m\u001b[1;33m:\u001b[0m\u001b[1;33m\u001b[0m\u001b[1;33m\u001b[0m\u001b[0m\n\u001b[0;32m     15\u001b[0m \u001b[1;31m#num=3\u001b[0m\u001b[1;33m\u001b[0m\u001b[1;33m\u001b[0m\u001b[0m\n",
      "\u001b[1;31mIndexError\u001b[0m: list index out of range"
     ]
    }
   ],
   "source": [
    "def rotate(l, num):\n",
    "    l1=[]\n",
    "    for i in range(num, len(l)):\n",
    "        l1.append(l[i])\n",
    "        \n",
    "    for i in range(num):\n",
    "        l1.append(l[i])\n",
    "    return l1\n",
    "\n",
    "x= [int(x) for x in input(\"enter values: \").split()] \n",
    "num= int(input(\"enter the number from where you want to rotate the list: \"))\n",
    "if num>len(x):\n",
    "    raise IndexError (\"list index out of range\")\n",
    "else:\n",
    "#num=3\n",
    "    rotate(x, num)"
   ]
  },
  {
   "cell_type": "raw",
   "id": "e7273d54",
   "metadata": {},
   "source": [
    "Q4: Write a Python Program to Split the array and add the first part to the end?"
   ]
  },
  {
   "cell_type": "code",
   "execution_count": 10,
   "id": "8a57b0c4",
   "metadata": {},
   "outputs": [
    {
     "name": "stdout",
     "output_type": "stream",
     "text": [
      "enter values: 1 2 3 4 5 6\n",
      "enter the position from where u want to split:3\n",
      "[1, 2, 3, 4, 5, 6]\n",
      "[4, 5, 6, 1, 2, 3]\n"
     ]
    }
   ],
   "source": [
    "def split(a,n,k):\n",
    "    for i in range(k):\n",
    "        k1=a[0]\n",
    "        for j in range(n-1):\n",
    "            a[j]=a[j+1]\n",
    "        a[n-1]=k1\n",
    "\n",
    "x= [int(x) for x in input(\"enter values: \").split(\" \")] \n",
    "k= int(input(\"enter the position from where u want to split:\"))\n",
    "print(x)\n",
    "n= len(x)\n",
    "split(x,n,k)\n",
    "\n",
    "print(x)"
   ]
  },
  {
   "cell_type": "raw",
   "id": "98a5856e",
   "metadata": {},
   "source": [
    "Q5: Write a Python Program to check if given array is Monotonic?"
   ]
  },
  {
   "cell_type": "code",
   "execution_count": 14,
   "id": "b5e4f90d",
   "metadata": {},
   "outputs": [],
   "source": [
    "l=[9,8,7,6,5,4,3]\n",
    "count=1\n",
    "count1=1\n",
    "for i in range (len(l)-1):\n",
    "    if l[i]<l[i+1]:\n",
    "        count+=1\n",
    "    else:\n",
    "        break\n",
    "    \n",
    "for i in range (len(l)-1):\n",
    "    if l[i]>l[i+1]:\n",
    "        count1+=1\n",
    "    else:\n",
    "        break\n",
    "\n",
    "if count==len(l):\n",
    "    print(\"array is monotonically increasing\")\n",
    "elif count1==len(l):\n",
    "    print(\"monotonically decreasing\")\n",
    "else:\n",
    "    print(\"neither of the cases\")"
   ]
  },
  {
   "cell_type": "code",
   "execution_count": null,
   "id": "cf39fc6b",
   "metadata": {},
   "outputs": [],
   "source": []
  }
 ],
 "metadata": {
  "kernelspec": {
   "display_name": "Python 3 (ipykernel)",
   "language": "python",
   "name": "python3"
  },
  "language_info": {
   "codemirror_mode": {
    "name": "ipython",
    "version": 3
   },
   "file_extension": ".py",
   "mimetype": "text/x-python",
   "name": "python",
   "nbconvert_exporter": "python",
   "pygments_lexer": "ipython3",
   "version": "3.9.7"
  }
 },
 "nbformat": 4,
 "nbformat_minor": 5
}
