{
 "cells": [
  {
   "cell_type": "raw",
   "id": "1681b751",
   "metadata": {},
   "source": [
    "Q1: Write a Python Program to Check if a Number is Positive, Negative or Zero?"
   ]
  },
  {
   "cell_type": "code",
   "execution_count": 84,
   "id": "b55e0de2",
   "metadata": {},
   "outputs": [
    {
     "name": "stdout",
     "output_type": "stream",
     "text": [
      "enter a number: 0\n",
      "the number you have entered is zero\n"
     ]
    }
   ],
   "source": [
    "n= int(input(\"enter a number: \"))\n",
    "if n>0:\n",
    "    print(\"the number you have entered is positive\")\n",
    "elif n<0:\n",
    "    print(\"the number you have entered is negative\")\n",
    "else:\n",
    "    print(\"the number you have entered is zero\")"
   ]
  },
  {
   "cell_type": "raw",
   "id": "1a23ffa1",
   "metadata": {},
   "source": [
    "Q2: Write a Python Program to Check if a Number is Odd or Even?"
   ]
  },
  {
   "cell_type": "code",
   "execution_count": 4,
   "id": "0bad1a4e",
   "metadata": {},
   "outputs": [
    {
     "name": "stdout",
     "output_type": "stream",
     "text": [
      "Enter a number: 23\n",
      "23 is odd\n"
     ]
    }
   ],
   "source": [
    "a= int(input(\"Enter a number: \"))\n",
    "if a%2==0:\n",
    "    print(a, \"is even\")\n",
    "else:\n",
    "    print(a, \"is odd\")"
   ]
  },
  {
   "cell_type": "raw",
   "id": "8ac02155",
   "metadata": {},
   "source": [
    "Q3: Write a Python Program to Check Leap Year?"
   ]
  },
  {
   "cell_type": "code",
   "execution_count": 13,
   "id": "af014cd8",
   "metadata": {},
   "outputs": [
    {
     "name": "stdout",
     "output_type": "stream",
     "text": [
      "Enter year: 2000\n",
      "2000 is a leap year\n"
     ]
    }
   ],
   "source": [
    "y= int(input(\"Enter year: \"))\n",
    "if y%400==0:\n",
    "    print(y , \"is a leap year\")\n",
    "elif y%4==0 and y%100!=0:\n",
    "    print(y , \"is a leap year\")\n",
    "else:\n",
    "    print(y , \"is not a leap year\")"
   ]
  },
  {
   "cell_type": "raw",
   "id": "e6c8b3c4",
   "metadata": {},
   "source": [
    "Q4: Write a Python Program to Check Prime Number?"
   ]
  },
  {
   "cell_type": "code",
   "execution_count": 64,
   "id": "7fcf8f29",
   "metadata": {},
   "outputs": [
    {
     "name": "stdout",
     "output_type": "stream",
     "text": [
      "Enter a number: 27\n",
      "27 is not a prime number\n"
     ]
    }
   ],
   "source": [
    "n= int(input(\"Enter a number: \"))\n",
    "count=1\n",
    "if n<=1:\n",
    "    print(\"enter a number greater than 1\")\n",
    "\n",
    "try:\n",
    "    for i in range(2,n):\n",
    "            #print (i)\n",
    "                if n%i==0:\n",
    "                    count=count+1\n",
    "\n",
    "        #print(count)\n",
    "    if count==1 and 2:\n",
    "            print(\"{0} is a prime number\". format(n))\n",
    "    else:\n",
    "            print(\"{0} is not a prime number\". format(n))\n",
    "except exception as e:\n",
    "    print(e)"
   ]
  },
  {
   "cell_type": "raw",
   "id": "03ebc8aa",
   "metadata": {},
   "source": [
    "Q5: Write a Python Program to Print all Prime Numbers in an Interval of 1-10000?"
   ]
  },
  {
   "cell_type": "code",
   "execution_count": 82,
   "id": "a1f13313",
   "metadata": {},
   "outputs": [
    {
     "name": "stdout",
     "output_type": "stream",
     "text": [
      "2 3 5 7 11 13 17 19 23 29 31 37 41 43 47 53 59 61 67 71 73 79 83 89 97 101 103 107 109 113 127 131 137 139 149 151 157 163 167 173 179 181 191 193 197 199 211 223 227 229 233 239 241 251 257 263 269 271 277 281 283 293 307 311 313 317 331 337 347 349 353 359 367 373 379 383 389 397 401 409 419 421 431 433 439 443 449 457 461 463 467 479 487 491 499 503 509 521 523 541 547 557 563 569 571 577 587 593 599 601 607 613 617 619 631 641 643 647 653 659 661 673 677 683 691 701 709 719 727 733 739 743 751 757 761 769 773 787 797 809 811 821 823 827 829 839 853 857 859 863 877 881 883 887 907 911 919 929 937 941 947 953 967 971 977 983 991 997 "
     ]
    }
   ],
   "source": [
    "for i in range (1, 1000):\n",
    "    flag=0\n",
    "    for j in range (2, (i//2+1)):\n",
    "        #print(j)\n",
    "        if i%j==0:\n",
    "            flag=1\n",
    "            break\n",
    "            \n",
    "    if flag==0 and i!=1:\n",
    "        print(i, end=\" \")    "
   ]
  }
 ],
 "metadata": {
  "kernelspec": {
   "display_name": "Python 3 (ipykernel)",
   "language": "python",
   "name": "python3"
  },
  "language_info": {
   "codemirror_mode": {
    "name": "ipython",
    "version": 3
   },
   "file_extension": ".py",
   "mimetype": "text/x-python",
   "name": "python",
   "nbconvert_exporter": "python",
   "pygments_lexer": "ipython3",
   "version": "3.9.7"
  }
 },
 "nbformat": 4,
 "nbformat_minor": 5
}
